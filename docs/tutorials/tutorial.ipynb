{
 "cells": [
  {
   "cell_type": "markdown",
   "id": "6bb647ac",
   "metadata": {},
   "source": [
    "# Analyzing snATAC-seq data of human colon samples"
   ]
  },
  {
   "cell_type": "code",
   "execution_count": 2,
   "id": "41e4b3cc",
   "metadata": {},
   "outputs": [],
   "source": [
    "import snapatac2 as snap\n",
    "import anndata as ad\n",
    "from os import listdir\n",
    "import numpy as np"
   ]
  },
  {
   "cell_type": "code",
   "execution_count": 3,
   "id": "250e7d41",
   "metadata": {},
   "outputs": [],
   "source": [
    "files = listdir(\"data\")"
   ]
  },
  {
   "cell_type": "code",
   "execution_count": 4,
   "id": "455fb55f",
   "metadata": {},
   "outputs": [
    {
     "data": {
      "text/plain": [
       "['colon_transverse_SM-BZ2ZS_rep1_fragments.bed.gz',\n",
       " 'colon_transverse_SM-A9VP4_rep1_fragments.bed.gz',\n",
       " 'colon_transverse_SM-ACCQ1_rep1_fragments.bed.gz',\n",
       " 'colon_transverse_SM-CSSDA_rep1_fragments.bed.gz',\n",
       " 'colon_transverse_SM-A9HOW_rep1_fragments.bed.gz']"
      ]
     },
     "execution_count": 4,
     "metadata": {},
     "output_type": "execute_result"
    }
   ],
   "source": [
    "files"
   ]
  },
  {
   "cell_type": "code",
   "execution_count": 5,
   "id": "2996b48e",
   "metadata": {},
   "outputs": [
    {
     "name": "stdout",
     "output_type": "stream",
     "text": [
      "colon_transverse_SM-BZ2ZS_rep1_fragments.bed.gz\n",
      "colon_transverse_SM-A9VP4_rep1_fragments.bed.gz\n",
      "colon_transverse_SM-ACCQ1_rep1_fragments.bed.gz\n",
      "colon_transverse_SM-CSSDA_rep1_fragments.bed.gz\n",
      "colon_transverse_SM-A9HOW_rep1_fragments.bed.gz\n"
     ]
    }
   ],
   "source": [
    "datasets = {}\n",
    "for fl in files:\n",
    "    print(fl)\n",
    "    name = fl.split(\"_rep1_fragments\")[0]\n",
    "    \n",
    "    # Compute QC metric and cell by 500bp-bin matrix\n",
    "    data = snap.make_tile_matrix(name + \"_raw.h5ad\",\n",
    "        \"data/\" + fl,\n",
    "        \"/projects/ps-renlab/kai/genome/GRCh38/gencode.v33.basic.annotation.gtf\",\n",
    "        snap.hg38)\n",
    "    \n",
    "    # Select cells based on number of unique fragments and TSS enrichment scores\n",
    "    selected_cells = np.logical_and(data.obs[\"n_fragment\"] >= 1000, data.obs[\"tsse\"] >= 7)\n",
    "    data = data[selected_cells, :]\n",
    "    \n",
    "    # Save filtered data to a different file\n",
    "    data.copy(filename = name + \"_filtered.h5ad\")\n",
    "    datasets[name] = data\n"
   ]
  },
  {
   "cell_type": "code",
   "execution_count": 6,
   "id": "7562e97c",
   "metadata": {},
   "outputs": [
    {
     "data": {
      "text/plain": [
       "{'colon_transverse_SM-BZ2ZS': View of AnnData object with n_obs × n_vars = 6174 × 6176550 backed at 'colon_transverse_SM-BZ2ZS_raw.h5ad'\n",
       "     obs: 'tsse', 'n_fragment', 'frac_dup', 'frac_mito',\n",
       " 'colon_transverse_SM-A9VP4': View of AnnData object with n_obs × n_vars = 2438 × 6176550 backed at 'colon_transverse_SM-A9VP4_raw.h5ad'\n",
       "     obs: 'tsse', 'n_fragment', 'frac_dup', 'frac_mito',\n",
       " 'colon_transverse_SM-ACCQ1': View of AnnData object with n_obs × n_vars = 1332 × 6176550 backed at 'colon_transverse_SM-ACCQ1_raw.h5ad'\n",
       "     obs: 'tsse', 'n_fragment', 'frac_dup', 'frac_mito',\n",
       " 'colon_transverse_SM-CSSDA': View of AnnData object with n_obs × n_vars = 7511 × 6176550 backed at 'colon_transverse_SM-CSSDA_raw.h5ad'\n",
       "     obs: 'tsse', 'n_fragment', 'frac_dup', 'frac_mito',\n",
       " 'colon_transverse_SM-A9HOW': View of AnnData object with n_obs × n_vars = 7512 × 6176550 backed at 'colon_transverse_SM-A9HOW_raw.h5ad'\n",
       "     obs: 'tsse', 'n_fragment', 'frac_dup', 'frac_mito'}"
      ]
     },
     "execution_count": 6,
     "metadata": {},
     "output_type": "execute_result"
    }
   ],
   "source": [
    "datasets"
   ]
  },
  {
   "cell_type": "code",
   "execution_count": 15,
   "id": "c1dd13f5",
   "metadata": {},
   "outputs": [
    {
     "data": {
      "text/plain": [
       "AnnCollection object with n_obs × n_vars = 24967 × 6176550\n",
       "  constructed from 5 AnnData objects\n",
       "    obs: 'tsse', 'n_fragment', 'frac_dup', 'frac_mito', 'batch'"
      ]
     },
     "execution_count": 15,
     "metadata": {},
     "output_type": "execute_result"
    }
   ],
   "source": [
    "# Merge all data. The resultant object stores references to individual data.\n",
    "# Data will not be copied but remain on the disk\n",
    "data = ad.experimental.AnnCollection(\n",
    "    datasets,\n",
    "    index_unique = \"_\",\n",
    "    join_obsm=\"inner\",\n",
    "    label=\"batch\"\n",
    ")\n",
    "data"
   ]
  },
  {
   "cell_type": "code",
   "execution_count": 17,
   "id": "4e5d52fa",
   "metadata": {},
   "outputs": [],
   "source": [
    "# Feature selection\n",
    "features = snap.find_variable_features(data)"
   ]
  },
  {
   "cell_type": "code",
   "execution_count": 18,
   "id": "8999eb62",
   "metadata": {},
   "outputs": [
    {
     "name": "stdout",
     "output_type": "stream",
     "text": [
      "Compute similarity matrix\n",
      "Perform read-depth correction\n",
      "Normalizing jaccard similarity\n",
      "Normalization\n",
      "Reduction\n"
     ]
    },
    {
     "name": "stderr",
     "output_type": "stream",
     "text": [
      "100%|██████████████████████████████████████████████████████████████████████████████████████████████████████████████████████████████████████████████████| 5/5 [00:59<00:00, 11.96s/it]\n"
     ]
    }
   ],
   "source": [
    "# Perform dimension reduction. The result is stored in `data.obsm[\"X_spectral\"]\n",
    "snap.spectral(data, features=features, sample_size=10000, chunk_size=5000)"
   ]
  },
  {
   "cell_type": "code",
   "execution_count": 19,
   "id": "37ff1c6a",
   "metadata": {},
   "outputs": [],
   "source": [
    "# Perform UMAP\n",
    "snap.umap(data)"
   ]
  },
  {
   "cell_type": "code",
   "execution_count": 20,
   "id": "c3da81aa",
   "metadata": {},
   "outputs": [
    {
     "data": {
      "image/png": "[encoded data removed]",
      "text/plain": [
       "<Figure size 432x288 with 1 Axes>"
      ]
     },
     "metadata": {},
     "output_type": "display_data"
    }
   ],
   "source": [
    "import scanpy as sc\n",
    "sc.pl.umap(data.to_adata(), color=\"batch\")"
   ]
  },
  {
   "cell_type": "code",
   "execution_count": null,
   "id": "d7cdae63",
   "metadata": {},
   "outputs": [],
   "source": [
    "# Save the result to file\n",
    "data.to_adata().write(\"out.h5ad\")"
   ]
  },
  {
   "cell_type": "code",
   "execution_count": 13,
   "id": "f1425f54",
   "metadata": {},
   "outputs": [
    {
     "data": {
      "text/plain": [
       "AnnCollection object with n_obs × n_vars = 24967 × 6176550\n",
       "  constructed from 5 AnnData objects\n",
       "    obs: 'tsse', 'n_fragment', 'frac_dup', 'frac_mito'\n",
       "    obsm: 'X_spectral', 'X_umap'"
      ]
     },
     "execution_count": 13,
     "metadata": {},
     "output_type": "execute_result"
    }
   ],
   "source": [
    "data"
   ]
  },
  {
   "cell_type": "code",
   "execution_count": 16,
   "id": "0cb195f5",
   "metadata": {},
   "outputs": [
    {
     "data": {
      "text/html": [
       "<div>\n",
       "<style scoped>\n",
       "    .dataframe tbody tr th:only-of-type {\n",
       "        vertical-align: middle;\n",
       "    }\n",
       "\n",
       "    .dataframe tbody tr th {\n",
       "        vertical-align: top;\n",
       "    }\n",
       "\n",
       "    .dataframe thead th {\n",
       "        text-align: right;\n",
       "    }\n",
       "</style>\n",
       "<table border=\"1\" class=\"dataframe\">\n",
       "  <thead>\n",
       "    <tr style=\"text-align: right;\">\n",
       "      <th></th>\n",
       "      <th>tsse</th>\n",
       "      <th>n_fragment</th>\n",
       "      <th>frac_dup</th>\n",
       "      <th>frac_mito</th>\n",
       "      <th>batch</th>\n",
       "    </tr>\n",
       "    <tr>\n",
       "      <th>Cell</th>\n",
       "      <th></th>\n",
       "      <th></th>\n",
       "      <th></th>\n",
       "      <th></th>\n",
       "      <th></th>\n",
       "    </tr>\n",
       "  </thead>\n",
       "  <tbody>\n",
       "    <tr>\n",
       "      <th>AACGAGAGCTAACGACTGCTCG_colon_transverse_SM-BZ2ZS</th>\n",
       "      <td>12.197929</td>\n",
       "      <td>4025</td>\n",
       "      <td>0.439493</td>\n",
       "      <td>0.007205</td>\n",
       "      <td>colon_transverse_SM-BZ2ZS</td>\n",
       "    </tr>\n",
       "    <tr>\n",
       "      <th>AACGAGAGCTAACTGATAGGAG_colon_transverse_SM-BZ2ZS</th>\n",
       "      <td>8.791209</td>\n",
       "      <td>2228</td>\n",
       "      <td>0.446735</td>\n",
       "      <td>0.019300</td>\n",
       "      <td>colon_transverse_SM-BZ2ZS</td>\n",
       "    </tr>\n",
       "    <tr>\n",
       "      <th>AACGAGAGCTAAGCCCATTGCC_colon_transverse_SM-BZ2ZS</th>\n",
       "      <td>10.935441</td>\n",
       "      <td>3337</td>\n",
       "      <td>0.431129</td>\n",
       "      <td>0.022775</td>\n",
       "      <td>colon_transverse_SM-BZ2ZS</td>\n",
       "    </tr>\n",
       "    <tr>\n",
       "      <th>AACGAGAGCTAAGCGGAACCTA_colon_transverse_SM-BZ2ZS</th>\n",
       "      <td>7.649667</td>\n",
       "      <td>2933</td>\n",
       "      <td>0.438982</td>\n",
       "      <td>0.023184</td>\n",
       "      <td>colon_transverse_SM-BZ2ZS</td>\n",
       "    </tr>\n",
       "    <tr>\n",
       "      <th>AACGAGAGCTAAGTAGCCCGCT_colon_transverse_SM-BZ2ZS</th>\n",
       "      <td>7.624633</td>\n",
       "      <td>1571</td>\n",
       "      <td>0.462538</td>\n",
       "      <td>0.029917</td>\n",
       "      <td>colon_transverse_SM-BZ2ZS</td>\n",
       "    </tr>\n",
       "    <tr>\n",
       "      <th>...</th>\n",
       "      <td>...</td>\n",
       "      <td>...</td>\n",
       "      <td>...</td>\n",
       "      <td>...</td>\n",
       "      <td>...</td>\n",
       "    </tr>\n",
       "    <tr>\n",
       "      <th>TTTCTGTCGGTTCGGTTCCCAC_colon_transverse_SM-A9HOW</th>\n",
       "      <td>21.982537</td>\n",
       "      <td>3044</td>\n",
       "      <td>0.417416</td>\n",
       "      <td>0.010512</td>\n",
       "      <td>colon_transverse_SM-A9HOW</td>\n",
       "    </tr>\n",
       "    <tr>\n",
       "      <th>TTTCTGTCGGTTGTCATGCGTG_colon_transverse_SM-A9HOW</th>\n",
       "      <td>8.668968</td>\n",
       "      <td>4417</td>\n",
       "      <td>0.379722</td>\n",
       "      <td>0.035997</td>\n",
       "      <td>colon_transverse_SM-A9HOW</td>\n",
       "    </tr>\n",
       "    <tr>\n",
       "      <th>TTTCTGTCGGTTTACCCGTCGA_colon_transverse_SM-A9HOW</th>\n",
       "      <td>8.093842</td>\n",
       "      <td>2881</td>\n",
       "      <td>0.387933</td>\n",
       "      <td>0.017355</td>\n",
       "      <td>colon_transverse_SM-A9HOW</td>\n",
       "    </tr>\n",
       "    <tr>\n",
       "      <th>TTTCTGTCGGTTTCCACGCAGT_colon_transverse_SM-A9HOW</th>\n",
       "      <td>15.397215</td>\n",
       "      <td>4122</td>\n",
       "      <td>0.408439</td>\n",
       "      <td>0.024017</td>\n",
       "      <td>colon_transverse_SM-A9HOW</td>\n",
       "    </tr>\n",
       "    <tr>\n",
       "      <th>TTTCTGTCGGTTTGTGTTACCG_colon_transverse_SM-A9HOW</th>\n",
       "      <td>14.860140</td>\n",
       "      <td>2270</td>\n",
       "      <td>0.364502</td>\n",
       "      <td>0.025110</td>\n",
       "      <td>colon_transverse_SM-A9HOW</td>\n",
       "    </tr>\n",
       "  </tbody>\n",
       "</table>\n",
       "<p>24967 rows × 5 columns</p>\n",
       "</div>"
      ],
      "text/plain": [
       "                                                       tsse  n_fragment  \\\n",
       "Cell                                                                      \n",
       "AACGAGAGCTAACGACTGCTCG_colon_transverse_SM-BZ2ZS  12.197929        4025   \n",
       "AACGAGAGCTAACTGATAGGAG_colon_transverse_SM-BZ2ZS   8.791209        2228   \n",
       "AACGAGAGCTAAGCCCATTGCC_colon_transverse_SM-BZ2ZS  10.935441        3337   \n",
       "AACGAGAGCTAAGCGGAACCTA_colon_transverse_SM-BZ2ZS   7.649667        2933   \n",
       "AACGAGAGCTAAGTAGCCCGCT_colon_transverse_SM-BZ2ZS   7.624633        1571   \n",
       "...                                                     ...         ...   \n",
       "TTTCTGTCGGTTCGGTTCCCAC_colon_transverse_SM-A9HOW  21.982537        3044   \n",
       "TTTCTGTCGGTTGTCATGCGTG_colon_transverse_SM-A9HOW   8.668968        4417   \n",
       "TTTCTGTCGGTTTACCCGTCGA_colon_transverse_SM-A9HOW   8.093842        2881   \n",
       "TTTCTGTCGGTTTCCACGCAGT_colon_transverse_SM-A9HOW  15.397215        4122   \n",
       "TTTCTGTCGGTTTGTGTTACCG_colon_transverse_SM-A9HOW  14.860140        2270   \n",
       "\n",
       "                                                  frac_dup  frac_mito  \\\n",
       "Cell                                                                    \n",
       "AACGAGAGCTAACGACTGCTCG_colon_transverse_SM-BZ2ZS  0.439493   0.007205   \n",
       "AACGAGAGCTAACTGATAGGAG_colon_transverse_SM-BZ2ZS  0.446735   0.019300   \n",
       "AACGAGAGCTAAGCCCATTGCC_colon_transverse_SM-BZ2ZS  0.431129   0.022775   \n",
       "AACGAGAGCTAAGCGGAACCTA_colon_transverse_SM-BZ2ZS  0.438982   0.023184   \n",
       "AACGAGAGCTAAGTAGCCCGCT_colon_transverse_SM-BZ2ZS  0.462538   0.029917   \n",
       "...                                                    ...        ...   \n",
       "TTTCTGTCGGTTCGGTTCCCAC_colon_transverse_SM-A9HOW  0.417416   0.010512   \n",
       "TTTCTGTCGGTTGTCATGCGTG_colon_transverse_SM-A9HOW  0.379722   0.035997   \n",
       "TTTCTGTCGGTTTACCCGTCGA_colon_transverse_SM-A9HOW  0.387933   0.017355   \n",
       "TTTCTGTCGGTTTCCACGCAGT_colon_transverse_SM-A9HOW  0.408439   0.024017   \n",
       "TTTCTGTCGGTTTGTGTTACCG_colon_transverse_SM-A9HOW  0.364502   0.025110   \n",
       "\n",
       "                                                                      batch  \n",
       "Cell                                                                         \n",
       "AACGAGAGCTAACGACTGCTCG_colon_transverse_SM-BZ2ZS  colon_transverse_SM-BZ2ZS  \n",
       "AACGAGAGCTAACTGATAGGAG_colon_transverse_SM-BZ2ZS  colon_transverse_SM-BZ2ZS  \n",
       "AACGAGAGCTAAGCCCATTGCC_colon_transverse_SM-BZ2ZS  colon_transverse_SM-BZ2ZS  \n",
       "AACGAGAGCTAAGCGGAACCTA_colon_transverse_SM-BZ2ZS  colon_transverse_SM-BZ2ZS  \n",
       "AACGAGAGCTAAGTAGCCCGCT_colon_transverse_SM-BZ2ZS  colon_transverse_SM-BZ2ZS  \n",
       "...                                                                     ...  \n",
       "TTTCTGTCGGTTCGGTTCCCAC_colon_transverse_SM-A9HOW  colon_transverse_SM-A9HOW  \n",
       "TTTCTGTCGGTTGTCATGCGTG_colon_transverse_SM-A9HOW  colon_transverse_SM-A9HOW  \n",
       "TTTCTGTCGGTTTACCCGTCGA_colon_transverse_SM-A9HOW  colon_transverse_SM-A9HOW  \n",
       "TTTCTGTCGGTTTCCACGCAGT_colon_transverse_SM-A9HOW  colon_transverse_SM-A9HOW  \n",
       "TTTCTGTCGGTTTGTGTTACCG_colon_transverse_SM-A9HOW  colon_transverse_SM-A9HOW  \n",
       "\n",
       "[24967 rows x 5 columns]"
      ]
     },
     "execution_count": 16,
     "metadata": {},
     "output_type": "execute_result"
    }
   ],
   "source": [
    "data.obs"
   ]
  },
  {
   "cell_type": "code",
   "execution_count": null,
   "id": "14756c63",
   "metadata": {},
   "outputs": [],
   "source": []
  }
 ],
 "metadata": {
  "kernelspec": {
   "display_name": "Python 3 (ipykernel)",
   "language": "python",
   "name": "python3"
  },
  "language_info": {
   "codemirror_mode": {
    "name": "ipython",
    "version": 3
   },
   "file_extension": ".py",
   "mimetype": "text/x-python",
   "name": "python",
   "nbconvert_exporter": "python",
   "pygments_lexer": "ipython3",
   "version": "3.8.3"
  }
 },
 "nbformat": 4,
 "nbformat_minor": 5
}
