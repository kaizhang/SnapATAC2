{
 "cells": [
  {
   "cell_type": "markdown",
   "id": "6bb647ac",
   "metadata": {},
   "source": [
    "# Analyzing snATAC-seq data of human colon samples"
   ]
  },
  {
   "cell_type": "code",
   "execution_count": 1,
   "id": "41e4b3cc",
   "metadata": {},
   "outputs": [],
   "source": [
    "import snapatac2 as snap\n",
    "import anndata as ad\n",
    "from os import listdir\n",
    "import numpy as np"
   ]
  },
  {
   "cell_type": "code",
   "execution_count": 2,
   "id": "250e7d41",
   "metadata": {},
   "outputs": [],
   "source": [
    "files = !ls data/*_fragments.bed.gz"
   ]
  },
  {
   "cell_type": "code",
   "execution_count": 3,
   "id": "455fb55f",
   "metadata": {},
   "outputs": [
    {
     "data": {
      "text/plain": [
       "['data/colon_transverse_SM-A9HOW_rep1_fragments.bed.gz',\n",
       " 'data/colon_transverse_SM-A9VP4_rep1_fragments.bed.gz',\n",
       " 'data/colon_transverse_SM-ACCQ1_rep1_fragments.bed.gz',\n",
       " 'data/colon_transverse_SM-BZ2ZS_rep1_fragments.bed.gz',\n",
       " 'data/colon_transverse_SM-CSSDA_rep1_fragments.bed.gz']"
      ]
     },
     "execution_count": 3,
     "metadata": {},
     "output_type": "execute_result"
    }
   ],
   "source": [
    "files"
   ]
  },
  {
   "cell_type": "code",
   "execution_count": 4,
   "id": "2996b48e",
   "metadata": {},
   "outputs": [
    {
     "name": "stdout",
     "output_type": "stream",
     "text": [
      "data/colon_transverse_SM-A9HOW_rep1_fragments.bed.gz\n",
      "data/colon_transverse_SM-A9VP4_rep1_fragments.bed.gz\n",
      "data/colon_transverse_SM-ACCQ1_rep1_fragments.bed.gz\n",
      "data/colon_transverse_SM-BZ2ZS_rep1_fragments.bed.gz\n",
      "data/colon_transverse_SM-CSSDA_rep1_fragments.bed.gz\n"
     ]
    }
   ],
   "source": [
    "datasets = {}\n",
    "for fl in files:\n",
    "    print(fl)\n",
    "    name = fl.split(\"_rep1_fragments\")[0]\n",
    "    \n",
    "    # Compute QC metric and cell by 500bp-bin matrix\n",
    "    data = snap.make_tile_matrix(name + \"_raw.h5ad\",\n",
    "        fl,\n",
    "        \"/projects/ps-renlab/kai/genome/GRCh38/gencode.v33.basic.annotation.gtf\",\n",
    "        snap.hg38)\n",
    "    \n",
    "    # Select cells based on number of unique fragments and TSS enrichment scores\n",
    "    selected_cells = np.logical_and(data.obs[\"n_fragment\"] >= 1000, data.obs[\"tsse\"] >= 7)\n",
    "    data = data[selected_cells, :]\n",
    "    \n",
    "    # Save filtered data to a different file\n",
    "    data.copy(filename = name + \"_filtered.h5ad\")\n",
    "    datasets[name] = data\n"
   ]
  },
  {
   "cell_type": "code",
   "execution_count": 5,
   "id": "7562e97c",
   "metadata": {},
   "outputs": [
    {
     "data": {
      "text/plain": [
       "{'data/colon_transverse_SM-A9HOW': View of AnnData object with n_obs × n_vars = 7512 × 6176550 backed at 'data/colon_transverse_SM-A9HOW_raw.h5ad'\n",
       "     obs: 'tsse', 'n_fragment', 'frac_dup', 'frac_mito',\n",
       " 'data/colon_transverse_SM-A9VP4': View of AnnData object with n_obs × n_vars = 2438 × 6176550 backed at 'data/colon_transverse_SM-A9VP4_raw.h5ad'\n",
       "     obs: 'tsse', 'n_fragment', 'frac_dup', 'frac_mito',\n",
       " 'data/colon_transverse_SM-ACCQ1': View of AnnData object with n_obs × n_vars = 1332 × 6176550 backed at 'data/colon_transverse_SM-ACCQ1_raw.h5ad'\n",
       "     obs: 'tsse', 'n_fragment', 'frac_dup', 'frac_mito',\n",
       " 'data/colon_transverse_SM-BZ2ZS': View of AnnData object with n_obs × n_vars = 6174 × 6176550 backed at 'data/colon_transverse_SM-BZ2ZS_raw.h5ad'\n",
       "     obs: 'tsse', 'n_fragment', 'frac_dup', 'frac_mito',\n",
       " 'data/colon_transverse_SM-CSSDA': View of AnnData object with n_obs × n_vars = 7511 × 6176550 backed at 'data/colon_transverse_SM-CSSDA_raw.h5ad'\n",
       "     obs: 'tsse', 'n_fragment', 'frac_dup', 'frac_mito'}"
      ]
     },
     "execution_count": 5,
     "metadata": {},
     "output_type": "execute_result"
    }
   ],
   "source": [
    "datasets"
   ]
  },
  {
   "cell_type": "code",
   "execution_count": 6,
   "id": "c1dd13f5",
   "metadata": {},
   "outputs": [
    {
     "data": {
      "text/plain": [
       "AnnCollection object with n_obs × n_vars = 24967 × 6176550\n",
       "  constructed from 5 AnnData objects\n",
       "    obs: 'tsse', 'n_fragment', 'frac_dup', 'frac_mito', 'batch'"
      ]
     },
     "execution_count": 6,
     "metadata": {},
     "output_type": "execute_result"
    }
   ],
   "source": [
    "# Merge all data. The resultant object stores references to individual data.\n",
    "# Data will not be copied but remain on the disk\n",
    "data = ad.experimental.AnnCollection(\n",
    "    datasets,\n",
    "    index_unique = \"_\",\n",
    "    join_obsm=\"inner\",\n",
    "    label=\"batch\"\n",
    ")\n",
    "data"
   ]
  },
  {
   "cell_type": "code",
   "execution_count": 7,
   "id": "4e5d52fa",
   "metadata": {},
   "outputs": [],
   "source": [
    "# Feature selection\n",
    "features = snap.select_features(data, whitelist=\"data/cCRE_hg38.bed.gz\")"
   ]
  },
  {
   "cell_type": "code",
   "execution_count": 10,
   "id": "8999eb62",
   "metadata": {},
   "outputs": [
    {
     "name": "stdout",
     "output_type": "stream",
     "text": [
      "Compute similarity matrix\n",
      "Normalization\n",
      "Perform decomposition\n",
      "Perform Nystrom extension\n"
     ]
    },
    {
     "name": "stderr",
     "output_type": "stream",
     "text": [
      "100%|███████████████████████████████████████████████████████████████████████████████████████████████████████████████████████████████████████████████████████████████████| 5/5 [02:27<00:00, 29.51s/it]\n"
     ]
    }
   ],
   "source": [
    "# Perform dimension reduction. The result is stored in `data.obsm[\"X_spectral\"]\n",
    "snap.spectral(data, features=features, sample_size=10000, chunk_size=5000)"
   ]
  },
  {
   "cell_type": "code",
   "execution_count": 11,
   "id": "37ff1c6a",
   "metadata": {},
   "outputs": [
    {
     "name": "stderr",
     "output_type": "stream",
     "text": [
      "/home/kaizhang/data/software/miniconda3/lib/python3.8/site-packages/umap/__init__.py:9: UserWarning: Tensorflow not installed; ParametricUMAP will be unavailable\n",
      "  warn(\"Tensorflow not installed; ParametricUMAP will be unavailable\")\n"
     ]
    }
   ],
   "source": [
    "# Perform UMAP\n",
    "snap.umap(data)"
   ]
  },
  {
   "cell_type": "code",
   "execution_count": 12,
   "id": "c3da81aa",
   "metadata": {},
   "outputs": [
    {
     "data": {
      "image/png": "[encoded data removed]",
      "text/plain": [
       "<Figure size 432x288 with 1 Axes>"
      ]
     },
     "metadata": {},
     "output_type": "display_data"
    }
   ],
   "source": [
    "import scanpy as sc\n",
    "sc.pl.umap(data.to_adata(), color=\"batch\")"
   ]
  },
  {
   "cell_type": "code",
   "execution_count": null,
   "id": "d7cdae63",
   "metadata": {},
   "outputs": [],
   "source": [
    "# Save the result to file\n",
    "data.to_adata().write(\"out.h5ad\")"
   ]
  },
  {
   "cell_type": "code",
   "execution_count": 13,
   "id": "f1425f54",
   "metadata": {},
   "outputs": [
    {
     "data": {
      "text/plain": [
       "AnnCollection object with n_obs × n_vars = 24967 × 6176550\n",
       "  constructed from 5 AnnData objects\n",
       "    obs: 'tsse', 'n_fragment', 'frac_dup', 'frac_mito'\n",
       "    obsm: 'X_spectral', 'X_umap'"
      ]
     },
     "execution_count": 13,
     "metadata": {},
     "output_type": "execute_result"
    }
   ],
   "source": [
    "data"
   ]
  },
  {
   "cell_type": "code",
   "execution_count": 14,
   "id": "0cb195f5",
   "metadata": {},
   "outputs": [
    {
     "data": {
      "text/plain": [
       "Index(['chr1:0-500', 'chr1:500-1000', 'chr1:1000-1500', 'chr1:1500-2000',\n",
       "       'chr1:2000-2500', 'chr1:2500-3000', 'chr1:3000-3500', 'chr1:3500-4000',\n",
       "       'chr1:4000-4500', 'chr1:4500-5000',\n",
       "       ...\n",
       "       'chrY:57222500-57223000', 'chrY:57223000-57223500',\n",
       "       'chrY:57223500-57224000', 'chrY:57224000-57224500',\n",
       "       'chrY:57224500-57225000', 'chrY:57225000-57225500',\n",
       "       'chrY:57225500-57226000', 'chrY:57226000-57226500',\n",
       "       'chrY:57226500-57227000', 'chrY:57227000-57227415'],\n",
       "      dtype='object', name='Region', length=6176550)"
      ]
     },
     "execution_count": 14,
     "metadata": {},
     "output_type": "execute_result"
    }
   ],
   "source": [
    "data.var_names"
   ]
  },
  {
   "cell_type": "code",
   "execution_count": 8,
   "id": "14756c63",
   "metadata": {},
   "outputs": [
    {
     "data": {
      "text/plain": [
       "1721417"
      ]
     },
     "execution_count": 8,
     "metadata": {},
     "output_type": "execute_result"
    }
   ],
   "source": [
    "np.count_nonzero(features)"
   ]
  },
  {
   "cell_type": "code",
   "execution_count": 9,
   "id": "fede0460",
   "metadata": {},
   "outputs": [
    {
     "data": {
      "text/plain": [
       "AnnCollection object with n_obs × n_vars = 24967 × 6176550\n",
       "  constructed from 5 AnnData objects\n",
       "    obs: 'tsse', 'n_fragment', 'frac_dup', 'frac_mito', 'batch'"
      ]
     },
     "execution_count": 9,
     "metadata": {},
     "output_type": "execute_result"
    }
   ],
   "source": [
    "data"
   ]
  },
  {
   "cell_type": "code",
   "execution_count": null,
   "id": "b96b2b2a",
   "metadata": {},
   "outputs": [],
   "source": []
  }
 ],
 "metadata": {
  "kernelspec": {
   "display_name": "Python 3 (ipykernel)",
   "language": "python",
   "name": "python3"
  },
  "language_info": {
   "codemirror_mode": {
    "name": "ipython",
    "version": 3
   },
   "file_extension": ".py",
   "mimetype": "text/x-python",
   "name": "python",
   "nbconvert_exporter": "python",
   "pygments_lexer": "ipython3",
   "version": "3.8.3"
  }
 },
 "nbformat": 4,
 "nbformat_minor": 5
}
